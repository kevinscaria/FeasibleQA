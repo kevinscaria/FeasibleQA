{
 "cells": [
  {
   "cell_type": "code",
   "execution_count": 1,
   "id": "b059d61f",
   "metadata": {},
   "outputs": [],
   "source": [
    "import pandas as pd"
   ]
  },
  {
   "cell_type": "code",
   "execution_count": 55,
   "id": "9a8f7f4a",
   "metadata": {},
   "outputs": [],
   "source": [
    "def get_pairwise_acc(checklist):\n",
    "    cnt = 0\n",
    "    for i in range(0, len(checklist), 2):\n",
    "        if checklist[i] == checklist[i+1]:\n",
    "            cnt+=1\n",
    "    return cnt*100/len(checklist)/2"
   ]
  },
  {
   "cell_type": "markdown",
   "id": "8d2a5415",
   "metadata": {},
   "source": [
    "# T5"
   ]
  },
  {
   "cell_type": "code",
   "execution_count": 67,
   "id": "0f0d368b",
   "metadata": {},
   "outputs": [
    {
     "name": "stdout",
     "output_type": "stream",
     "text": [
      "1.0314039408866995\n",
      "0.6773399014778325\n"
     ]
    }
   ],
   "source": [
    "# T5 - Few Shot With Knowledge\n",
    "t5fswk = pd.read_csv('./T5/Binary/FewShot_WK_BCQ_Output.csv')\n",
    "acc = get_pairwise_acc(t5fswk[['binary_classification_label', 'T5Pred']].apply(lambda x: str(x[0]).lower() == x[1].split()[0].lower(), axis=1).tolist())\n",
    "print(acc)\n",
    "\n",
    "# T5 - Few Shot Without Knowledge\n",
    "t5fswok = pd.read_csv('./T5/Binary/FewShot_WOK_BCQ_Output.csv')\n",
    "acc = get_pairwise_acc(t5fswok[['binary_classification_label', 'T5Pred']].apply(lambda x: str(x[0]).lower() == x[1].split()[0].lower(), axis=1).tolist())\n",
    "print(acc)"
   ]
  },
  {
   "cell_type": "code",
   "execution_count": 58,
   "id": "e5ef0e0d",
   "metadata": {},
   "outputs": [
    {
     "name": "stdout",
     "output_type": "stream",
     "text": [
      "1.0775862068965518\n",
      "1.1853448275862069\n"
     ]
    }
   ],
   "source": [
    "# T5 - One Shot With Knowledge\n",
    "t5oswk = pd.read_csv('./T5/Binary/OneShot_WK_BCQ_Output.csv')\n",
    "acc = get_pairwise_acc(t5oswk[['binary_classification_label', 'T5Pred']].apply(lambda x: str(x[0]).lower() == x[1].split()[0].lower(), axis=1).tolist())\n",
    "print(acc)\n",
    "\n",
    "# T5 - One Shot Without Knowledge\n",
    "t5oswok = pd.read_csv('./T5/Binary/OneShot_WOK_BCQ_Output.csv')\n",
    "acc = get_pairwise_acc(t5oswok[['binary_classification_label', 'T5Pred']].apply(lambda x: str(x[0]).lower() == x[1].split()[0].lower(), axis=1).tolist())\n",
    "print(acc)"
   ]
  },
  {
   "cell_type": "code",
   "execution_count": 73,
   "id": "c085ece9",
   "metadata": {},
   "outputs": [
    {
     "name": "stdout",
     "output_type": "stream",
     "text": [
      "0.49261083743842365\n",
      "1.5855911330049262\n"
     ]
    }
   ],
   "source": [
    "# T5 - Zero Shot With Knowledge\n",
    "t5zswk = pd.read_csv('./T5/Binary/ZeroShot_WK_BCQ_Output.csv')\n",
    "acc = get_pairwise_acc(t5zswk[['binary_classification_label', 'T5Pred']].apply(lambda x: str(x[0]).lower() == str(x[1]).split()[0].lower(), axis=1).tolist())\n",
    "print(acc)\n",
    "\n",
    "# T5 - Zero Shot Without Knowledge\n",
    "t5zswok = pd.read_csv('./T5/Binary/ZeroShot_WOK_BCQ_Output.csv')\n",
    "acc = get_pairwise_acc(t5zswok[['binary_classification_label', 'T5Pred']].apply(lambda x: str(x[0]).lower() == str(x[1]).split()[0].lower(), axis=1).tolist())\n",
    "print(acc)"
   ]
  }
 ],
 "metadata": {
  "kernelspec": {
   "display_name": "Python 3",
   "language": "python",
   "name": "python3"
  },
  "language_info": {
   "codemirror_mode": {
    "name": "ipython",
    "version": 3
   },
   "file_extension": ".py",
   "mimetype": "text/x-python",
   "name": "python",
   "nbconvert_exporter": "python",
   "pygments_lexer": "ipython3",
   "version": "3.9.6 (default, Oct 18 2022, 12:41:40) \n[Clang 14.0.0 (clang-1400.0.29.202)]"
  },
  "vscode": {
   "interpreter": {
    "hash": "31f2aee4e71d21fbe5cf8b01ff0e069b9275f58929596ceb00d14d90e3e16cd6"
   }
  }
 },
 "nbformat": 4,
 "nbformat_minor": 5
}
